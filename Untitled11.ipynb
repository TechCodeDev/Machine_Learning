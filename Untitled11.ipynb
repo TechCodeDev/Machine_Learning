{
 "cells": [
  {
   "cell_type": "code",
   "execution_count": 1,
   "metadata": {},
   "outputs": [
    {
     "ename": "SyntaxError",
     "evalue": "unexpected EOF while parsing (<ipython-input-1-409bdc6bef62>, line 34)",
     "output_type": "error",
     "traceback": [
      "\u001b[1;36m  File \u001b[1;32m\"<ipython-input-1-409bdc6bef62>\"\u001b[1;36m, line \u001b[1;32m34\u001b[0m\n\u001b[1;33m    print(\"\\n\".join(\"{}\\t\\t{}\".format(state.name,belief) for state,belief in zip(network.state, beliefs))\u001b[0m\n\u001b[1;37m                                                                                                         ^\u001b[0m\n\u001b[1;31mSyntaxError\u001b[0m\u001b[1;31m:\u001b[0m unexpected EOF while parsing\n"
     ]
    }
   ],
   "source": [
    "from pomegranate import*\n",
    "exercise=DiscreteDistribution({'true':0.4,'false':0.6})\n",
    "smokes=DiscreteBistribution({'true':0.15,'false':0.85})\n",
    "BP=conditionalprobabilitytable(\n",
    "[['true','true','true',0.45],\n",
    "['true','true','false',0.55],\n",
    "['true','false','true',0.05],\n",
    "['true','false','false',0.95],\n",
    "['false','true','true',0.05],\n",
    "['false','true','false',0.55],\n",
    "['false','false','false',0.45]],[exercise,smokes])\n",
    "chol=conditionalprobabilitytable(\n",
    "[['true','false',0.8],\n",
    "['true','false',0.2],\n",
    "['false','true',0.2],\n",
    "['false','false',0.6]],[smoke])\n",
    "attack=conditionalprobabilitytable(\n",
    "[['true','true',0.75],\n",
    "['true','false',0.25],\n",
    "['false','true',0.05],\n",
    "['false','false',0.95]],[BP])\n",
    "s0=state(exercise,name='exercise')\n",
    "s1=state(smokes,name=\"Smokes\")\n",
    "s2=state(BP,name=\"BP\")\n",
    "s3=state(chol,name=\"attack\")\n",
    "network=BayesianNetrwork(\"heart disease\")\n",
    "network.add_nodes(s0,s1,s2,s3,s4)\n",
    "network.add_edge(s0,s2)\n",
    "network.add_edge(s1,s2)\n",
    "network.add_edge(s2,s4)\n",
    "network.bake()\n",
    "observation={'exercise':'false','smoke':'true'}\n",
    "belifs=map(str,network.predict_proba(observations))\n",
    "print(\"\\n\".join(\"{}\\t\\t{}\".format(state.name,belief) for state,belief in zip(network.state, beliefs))"
   ]
  },
  {
   "cell_type": "code",
   "execution_count": null,
   "metadata": {},
   "outputs": [],
   "source": []
  }
 ],
 "metadata": {
  "kernelspec": {
   "display_name": "Python 3",
   "language": "python",
   "name": "python3"
  },
  "language_info": {
   "codemirror_mode": {
    "name": "ipython",
    "version": 3
   },
   "file_extension": ".py",
   "mimetype": "text/x-python",
   "name": "python",
   "nbconvert_exporter": "python",
   "pygments_lexer": "ipython3",
   "version": "3.6.5"
  }
 },
 "nbformat": 4,
 "nbformat_minor": 2
}
