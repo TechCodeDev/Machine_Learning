{
 "cells": [
  {
   "cell_type": "code",
   "execution_count": 10,
   "metadata": {},
   "outputs": [
    {
     "name": "stdout",
     "output_type": "stream",
     "text": [
      "input:\n",
      "[[1 0 1 0]\n",
      " [1 0 1 1]\n",
      " [0 1 0 1]]\n",
      "actual output:\n",
      "[[1]\n",
      " [1]\n",
      " [0]]\n",
      "program output:\n",
      " [[0.98186907]\n",
      " [0.97289487]\n",
      " [0.0373288 ]]\n"
     ]
    }
   ],
   "source": [
    "import numpy as np\n",
    "x=np.array([[1,0,1,0],[1,0,1,1],[0,1,0,1]])\n",
    "y=np.array([[1],[1],[0]])\n",
    "def sigmoid(x):\n",
    "    return 1/(1+np.exp(-x))\n",
    "def derivatives_sigmoid(x):\n",
    "    return x*(1-x)\n",
    "epoch=5000\n",
    "lr=0.1\n",
    "inputlayer_neurons=x.shape[1]\n",
    "hiddenlayer_neurons=3\n",
    "output_neurons=1\n",
    "wh=np.random.uniform(size=(inputlayer_neurons,hiddenlayer_neurons))\n",
    "bh=np.random.uniform(size=(1,hiddenlayer_neurons))\n",
    "wout=np.random.uniform(size=(hiddenlayer_neurons,output_neurons))\n",
    "bout=np.random.uniform(size=(1,output_neurons))\n",
    "for i in range(epoch):\n",
    "    hidden_layer_input1=np.dot(x,wh)\n",
    "    hidden_layer_input=hidden_layer_input1+bh\n",
    "    hidden_layer_activations=sigmoid(hidden_layer_input)\n",
    "    output_layer_input1=np.dot(hidden_layer_activations,wout)\n",
    "    output_layer_input=output_layer_input1+bout\n",
    "    output=sigmoid(output_layer_input)\n",
    "    slope_output_layer=derivatives_sigmoid(output)\n",
    "    slope_hidden_layer=derivatives_sigmoid(hidden_layer_activations)\n",
    "    \n",
    "    E=y-output\n",
    "    d_output=E*slope_output_layer\n",
    "    Error_at_hidden_layer=d_output.dot(wout.T)\n",
    "    d_hiddenlayer=Error_at_hidden_layer*slope_hidden_layer\n",
    "    wout+=hidden_layer_activations.T.dot(d_output)*lr\n",
    "    bout+=np.sum(d_output,axis=0,keepdims=True)*lr\n",
    "    wh+=x.T.dot(d_hiddenlayer)*lr\n",
    "    bh+=np.sum(d_hiddenlayer,axis=0,keepdims=True)*lr\n",
    "print(\"input:\\n\" +str(x))\n",
    "print(\"actual output:\\n\" +str(y))\n",
    "print(\"program output:\\n\",output)      "
   ]
  },
  {
   "cell_type": "code",
   "execution_count": null,
   "metadata": {},
   "outputs": [],
   "source": []
  }
 ],
 "metadata": {
  "kernelspec": {
   "display_name": "Python 3",
   "language": "python",
   "name": "python3"
  },
  "language_info": {
   "codemirror_mode": {
    "name": "ipython",
    "version": 3
   },
   "file_extension": ".py",
   "mimetype": "text/x-python",
   "name": "python",
   "nbconvert_exporter": "python",
   "pygments_lexer": "ipython3",
   "version": "3.6.5"
  }
 },
 "nbformat": 4,
 "nbformat_minor": 2
}
