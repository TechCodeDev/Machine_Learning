{
 "cells": [
  {
   "cell_type": "code",
   "execution_count": 11,
   "metadata": {},
   "outputs": [
    {
     "name": "stdout",
     "output_type": "stream",
     "text": [
      "['sunny', 'warm', 'normal', 'strong', 'warm', 'same', 'yes']\n",
      "['sunny', 'warm', 'high', 'strong', 'warm', 'same', 'yes']\n",
      "['rainy', 'cold', 'high', 'strong', 'warm', 'change', 'no']\n",
      "['sunny', 'warm', 'high', 'strong', 'cool', 'change', 'yes']\n",
      "The most general hypothesis : ['?', '?', '?', '?', '?', '?']\n",
      "The most specfic hypothesis : ['0', '0', '0', '0', '0', '0']\n",
      "the training example number 1 the hypothesis is: ['sunny', 'warm', 'normal', 'strong', 'warm', 'same']\n",
      "the training example number 2 the hypothesis is: ['sunny', 'warm', '?', 'strong', 'warm', 'same']\n",
      "the training example number 3 the hypothesis is: ['sunny', 'warm', '?', 'strong', 'warm', 'same']\n",
      "the training example number 4 the hypothesis is: ['sunny', 'warm', '?', 'strong', '?', '?']\n",
      "\n",
      " the maximallyspecific hypothesis for training set\n",
      "['sunny', 'warm', '?', 'strong', '?', '?']\n"
     ]
    }
   ],
   "source": [
    "import csv\n",
    "a=[]\n",
    "with open('finds.csv') as csfile:\n",
    "    reader=csv.reader(csfile)\n",
    "    for row in reader:\n",
    "        a.append(row)\n",
    "        print(row)\n",
    "num_attribute=len(a[0])-1\n",
    "print(\"The most general hypothesis :\",[\"?\"]*num_attribute)\n",
    "print(\"The most specfic hypothesis :\",[\"0\"]*num_attribute)\n",
    "hypothesis=a[0][:-1]\n",
    "for i in range(len(a)):\n",
    "    if a[i][num_attribute]==\"yes\":\n",
    "        for j in range(num_attribute):\n",
    "            if(a[i][j]!=hypothesis[j]):\n",
    "                hypothesis[j]='?'\n",
    "    print(\"the training example number\",i+1,\"the hypothesis is:\",hypothesis)\n",
    "print(\"\\n the maximallyspecific hypothesis for training set\")\n",
    "print(hypothesis)\n",
    "                "
   ]
  },
  {
   "cell_type": "code",
   "execution_count": null,
   "metadata": {},
   "outputs": [],
   "source": []
  },
  {
   "cell_type": "code",
   "execution_count": null,
   "metadata": {},
   "outputs": [],
   "source": []
  },
  {
   "cell_type": "code",
   "execution_count": null,
   "metadata": {},
   "outputs": [],
   "source": []
  },
  {
   "cell_type": "code",
   "execution_count": null,
   "metadata": {},
   "outputs": [],
   "source": []
  }
 ],
 "metadata": {
  "kernelspec": {
   "display_name": "Python 3",
   "language": "python",
   "name": "python3"
  },
  "language_info": {
   "codemirror_mode": {
    "name": "ipython",
    "version": 3
   },
   "file_extension": ".py",
   "mimetype": "text/x-python",
   "name": "python",
   "nbconvert_exporter": "python",
   "pygments_lexer": "ipython3",
   "version": "3.6.5"
  }
 },
 "nbformat": 4,
 "nbformat_minor": 2
}
