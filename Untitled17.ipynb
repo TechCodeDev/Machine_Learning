{
 "cells": [
  {
   "cell_type": "code",
   "execution_count": 11,
   "metadata": {},
   "outputs": [
    {
     "name": "stdout",
     "output_type": "stream",
     "text": [
      "exercise\t \tFalse\n",
      "smokes\t \tTrue\n",
      "BP\t \t{\n",
      "    \"class\" :\"Distribution\",\n",
      "    \"dtype\" :\"str\",\n",
      "    \"name\" :\"DiscreteDistribution\",\n",
      "    \"parameters\" :[\n",
      "        {\n",
      "            \"False\" :0.05000000000000043,\n",
      "            \"True\" :0.9499999999999995\n",
      "        }\n",
      "    ],\n",
      "    \"frozen\" :false\n",
      "}\n",
      "chol\t \t{\n",
      "    \"class\" :\"Distribution\",\n",
      "    \"dtype\" :\"str\",\n",
      "    \"name\" :\"DiscreteDistribution\",\n",
      "    \"parameters\" :[\n",
      "        {\n",
      "            \"False\" :0.2000000000000002,\n",
      "            \"True\" :0.7999999999999999\n",
      "        }\n",
      "    ],\n",
      "    \"frozen\" :false\n",
      "}\n",
      "attack\t \t{\n",
      "    \"class\" :\"Distribution\",\n",
      "    \"dtype\" :\"str\",\n",
      "    \"name\" :\"DiscreteDistribution\",\n",
      "    \"parameters\" :[\n",
      "        {\n",
      "            \"False\" :0.2850000000000003,\n",
      "            \"True\" :0.7149999999999997\n",
      "        }\n",
      "    ],\n",
      "    \"frozen\" :false\n",
      "}\n"
     ]
    }
   ],
   "source": [
    "from pomegranate import*\n",
    "exercise=DiscreteDistribution({'True':0.4,'False':0.6})\n",
    "smokes = DiscreteDistribution({'True':0.15,'False':0.85})\n",
    "BP=ConditionalProbabilityTable(\n",
    "[['True','True','True',0.45],\n",
    " ['True','True','False',0.55],\n",
    " ['True','False','True',0.05],\n",
    " ['True','False','False',0.95],\n",
    " ['False','True','True',0.95],\n",
    " ['False','True','False',0.05],\n",
    " ['False','False','True',0.55],\n",
    " ['False','False','False',0.45]],[exercise,smokes])\n",
    "    \n",
    "chol = ConditionalProbabilityTable(\n",
    "[['True','True',0.8],\n",
    " ['True','False',0.2],\n",
    " ['False','True',0.2],\n",
    " ['False','False',0.6]],[smokes])\n",
    "    \n",
    "attack = ConditionalProbabilityTable(\n",
    "[['True','True',0.75],\n",
    " ['True','False',0.25],\n",
    " ['False','True',0.05],\n",
    " ['False','False',0.95]],[BP])\n",
    "    \n",
    "S0 = State(exercise,name=\"exercise\")\n",
    "S1 = State(smokes,name=\"smokes\")\n",
    "S2 = State(BP,name=\"BP\")\n",
    "S3 = State(chol,name=\"chol\")\n",
    "S4 = State(attack,name=\"attack\")\n",
    "    \n",
    "network = BayesianNetwork(\"heart Disease\")\n",
    "network.add_nodes(S0,S1,S2,S3,S4)\n",
    "network.add_edge(S0,S2)\n",
    "network.add_edge(S1,S2)\n",
    "network.add_edge(S1,S3)\n",
    "network.add_edge(S2,S4)\n",
    "network.bake()\n",
    "\n",
    "observations = {'exercise':'False','smokes':'True'}\n",
    "belief = map(str,network.predict_proba(observations))\n",
    "print(\"\\n\".join(\"{}\\t \\t{}\".format(state.name,belief)for state,belief in zip(network.states,belief)))"
   ]
  },
  {
   "cell_type": "code",
   "execution_count": null,
   "metadata": {},
   "outputs": [],
   "source": []
  }
 ],
 "metadata": {
  "kernelspec": {
   "display_name": "Python 3",
   "language": "python",
   "name": "python3"
  },
  "language_info": {
   "codemirror_mode": {
    "name": "ipython",
    "version": 3
   },
   "file_extension": ".py",
   "mimetype": "text/x-python",
   "name": "python",
   "nbconvert_exporter": "python",
   "pygments_lexer": "ipython3",
   "version": "3.6.5"
  }
 },
 "nbformat": 4,
 "nbformat_minor": 2
}
