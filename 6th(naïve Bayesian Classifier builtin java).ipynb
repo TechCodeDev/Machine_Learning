{
 "cells": [
  {
   "cell_type": "code",
   "execution_count": 2,
   "metadata": {},
   "outputs": [
    {
     "name": "stdout",
     "output_type": "stream",
     "text": [
      "the age of patients are: [30. 30. 30. 31. 31.]\n",
      "the year of operation are: [64. 62. 65. 59. 65.]\n",
      "number of positive axillary nodes detected are: [1. 3. 0. 2. 4.]\n",
      "the labes(survived in 5 years[1-yes 2-no]) [1. 1. 1. 1. 1.]\n",
      "\n",
      "\n",
      "accuracy of the classifier is: 0.7483660130718954\n",
      "\n",
      "\n",
      "             precision    recall  f1-score   support\n",
      "\n",
      "        1.0       0.77      0.94      0.85       225\n",
      "        2.0       0.57      0.21      0.31        81\n",
      "\n",
      "avg / total       0.71      0.75      0.70       306\n",
      "\n"
     ]
    }
   ],
   "source": [
    "import numpy as np\n",
    "from matplotlib import pyplot as plt\n",
    "from sklearn.naive_bayes import GaussianNB\n",
    "from sklearn.metrics import accuracy_score\n",
    "from sklearn import metrics\n",
    "\n",
    "c1,c2,c3,c4=np.loadtxt('data.csv',unpack=True,delimiter=',')\n",
    "print(\"the age of patients are:\", c1[0:5])\n",
    "print(\"the year of operation are:\", c2[0:5])\n",
    "print(\"number of positive axillary nodes detected are:\", c3[0:5])\n",
    "print(\"the labes(survived in 5 years[1-yes 2-no])\", c4[0:5])\n",
    "x=np.column_stack((c1,c3))\n",
    "y=c4\n",
    "clf=GaussianNB()\n",
    "clf.fit(x,y)\n",
    "predictions=clf.predict(x)\n",
    "print(\"\\n\")\n",
    "print('accuracy of the classifier is:',accuracy_score(y,predictions))\n",
    "print(\"\\n\")\n",
    "print(metrics.classification_report(y,predictions))"
   ]
  },
  {
   "cell_type": "code",
   "execution_count": null,
   "metadata": {},
   "outputs": [],
   "source": []
  }
 ],
 "metadata": {
  "kernelspec": {
   "display_name": "Python 3",
   "language": "python",
   "name": "python3"
  },
  "language_info": {
   "codemirror_mode": {
    "name": "ipython",
    "version": 3
   },
   "file_extension": ".py",
   "mimetype": "text/x-python",
   "name": "python",
   "nbconvert_exporter": "python",
   "pygments_lexer": "ipython3",
   "version": "3.6.5"
  }
 },
 "nbformat": 4,
 "nbformat_minor": 2
}
